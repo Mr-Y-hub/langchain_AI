{
  "nbformat": 4,
  "nbformat_minor": 0,
  "metadata": {
    "colab": {
      "provenance": []
    },
    "kernelspec": {
      "name": "python3",
      "display_name": "Python 3"
    },
    "language_info": {
      "name": "python"
    }
  },
  "cells": [
    {
      "cell_type": "code",
      "execution_count": null,
      "metadata": {
        "id": "t7ZgD96GBq3H"
      },
      "outputs": [],
      "source": [
        "# Standard libraries\n",
        "\n",
        "!pip install langchain\n",
        "!pip install openai"
      ]
    },
    {
      "cell_type": "code",
      "source": [
        "from langchain.agents import load_tools\n",
        "from langchain.agents import initialize_agent\n",
        "from langchain.llms import OpenAI"
      ],
      "metadata": {
        "id": "u3841sgJ-3SI"
      },
      "execution_count": 8,
      "outputs": []
    },
    {
      "cell_type": "code",
      "source": [
        "#openai_api key initialization\n",
        "OPENAI_API_KEY = os.environ.get('OPENAI_API_KEY', '')"
      ],
      "metadata": {
        "id": "9giYplIoB09f"
      },
      "execution_count": 11,
      "outputs": []
    },
    {
      "cell_type": "code",
      "source": [
        "llm=OpenAI(temperature=0,openai_api_key=OPENAI_API_KEY)"
      ],
      "metadata": {
        "id": "g0l_4cS5Cz1p"
      },
      "execution_count": 13,
      "outputs": []
    },
    {
      "cell_type": "code",
      "source": [
        "# This is in list because you can add as many as tools you want\n",
        "tools_name = ['serpapi']"
      ],
      "metadata": {
        "id": "rt9GpzQ0DirE"
      },
      "execution_count": 30,
      "outputs": []
    },
    {
      "cell_type": "code",
      "source": [
        "os.environ['SERPAPI_API_KEY'] = \"\""
      ],
      "metadata": {
        "id": "oMnsAsUnBOSk"
      },
      "execution_count": 19,
      "outputs": []
    },
    {
      "cell_type": "code",
      "source": [
        "# for using serpapi\n",
        "pip install google-search-results"
      ],
      "metadata": {
        "id": "w_4GFOYDBWEC"
      },
      "execution_count": null,
      "outputs": []
    },
    {
      "cell_type": "code",
      "source": [
        "#load the tools\n",
        "tool=load_tools(tools_name)\n"
      ],
      "metadata": {
        "id": "SGYz3HT3AwKr"
      },
      "execution_count": 23,
      "outputs": []
    },
    {
      "cell_type": "code",
      "source": [
        "#initializing agents\n",
        "agent = initialize_agent(tool, llm, agent=\"zero-shot-react-description\",verbose=True)"
      ],
      "metadata": {
        "id": "L0FwfKmlA5Ij"
      },
      "execution_count": 27,
      "outputs": []
    },
    {
      "cell_type": "code",
      "source": [
        "#query\n",
        "agent.run(\"Do you know about solving problems?\")"
      ],
      "metadata": {
        "colab": {
          "base_uri": "https://localhost:8080/",
          "height": 296
        },
        "id": "VdAWHIIoBrVp",
        "outputId": "207513f1-d94c-4e70-afd7-8cb41f664e4c"
      },
      "execution_count": 32,
      "outputs": [
        {
          "output_type": "stream",
          "name": "stdout",
          "text": [
            "\n",
            "\n",
            "\u001b[1m> Entering new AgentExecutor chain...\u001b[0m\n",
            "\u001b[32;1m\u001b[1;3m I should research how to solve problems.\n",
            "Action: Search\n",
            "Action Input: How to solve problems\u001b[0m\n",
            "Observation: \u001b[36;1m\u001b[1;3m8-Step Problem Solving Process\u001b[0m\n",
            "Thought:\u001b[32;1m\u001b[1;3m I should read more about this process.\n",
            "Action: Search\n",
            "Action Input: 8-Step Problem Solving Process\u001b[0m\n",
            "Observation: \u001b[36;1m\u001b[1;3m8-Step Problem Solving Process\u001b[0m\n",
            "Thought:\u001b[32;1m\u001b[1;3m I now know the steps to solving problems.\n",
            "Final Answer: Yes, I know about solving problems. The 8-Step Problem Solving Process is a useful tool for breaking down and solving problems.\u001b[0m\n",
            "\n",
            "\u001b[1m> Finished chain.\u001b[0m\n"
          ]
        },
        {
          "output_type": "execute_result",
          "data": {
            "text/plain": [
              "'Yes, I know about solving problems. The 8-Step Problem Solving Process is a useful tool for breaking down and solving problems.'"
            ],
            "application/vnd.google.colaboratory.intrinsic+json": {
              "type": "string"
            }
          },
          "metadata": {},
          "execution_count": 32
        }
      ]
    },
    {
      "cell_type": "code",
      "source": [],
      "metadata": {
        "id": "0M2ADsl5CAVq"
      },
      "execution_count": null,
      "outputs": []
    }
  ]
}