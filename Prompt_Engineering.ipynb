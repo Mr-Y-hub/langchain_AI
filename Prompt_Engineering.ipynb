{
  "nbformat": 4,
  "nbformat_minor": 0,
  "metadata": {
    "colab": {
      "provenance": []
    },
    "kernelspec": {
      "name": "python3",
      "display_name": "Python 3"
    },
    "language_info": {
      "name": "python"
    }
  },
  "cells": [
    {
      "cell_type": "code",
      "source": [
        "!pip install langchain\n",
        "!pip install openai\n",
        "\n",
        "from langchain.llms import OpenAI\n",
        "\n",
        "llm = OpenAI(model_name=\"text-davinci-003\", openai_api_key=\"Enter Your key here\")\n",
        "\n",
        "\n",
        "from langchain.prompts.few_shot import FewShotPromptTemplate\n",
        "from langchain.prompts.prompt import PromptTemplate"
      ],
      "metadata": {
        "id": "jyfHZDtPPL5A"
      },
      "execution_count": null,
      "outputs": []
    },
    {
      "cell_type": "code",
      "source": [],
      "metadata": {
        "id": "DopFWlAiyFlH"
      },
      "execution_count": null,
      "outputs": []
    },
    {
      "cell_type": "code",
      "execution_count": null,
      "metadata": {
        "colab": {
          "base_uri": "https://localhost:8080/"
        },
        "id": "sN4qPStwyCh0",
        "outputId": "c7b50670-7487-4595-dcea-ae96a835e985"
      },
      "outputs": [
        {
          "output_type": "stream",
          "name": "stdout",
          "text": [
            "Person: What is the future of AI\n",
            "An artificial intelligent Expert: The future of AI is:\n",
            "boundless and transformative. Advancements in machine learning, natural language processing, and robotics will lead to intelligent systems\n",
            "integrated into every aspect of life, revolutionizing industries, healthcare, transportation, and daily tasks. Ethical considerations and responsible development\n",
            " will be crucial in maximizing AI's potential for a better world.\n"
          ]
        }
      ],
      "source": [
        "\n",
        "examples = [\n",
        "  {\n",
        "    \"Person\": \"What is the future of AI\",\n",
        "    \"An artificial intelligent Expert\": \"\"\"The future of AI is:\n",
        "boundless and transformative. Advancements in machine learning, natural language processing, and robotics will lead to intelligent systems\n",
        "integrated into every aspect of life, revolutionizing industries, healthcare, transportation, and daily tasks. Ethical considerations and responsible development\n",
        " will be crucial in maximizing AI's potential for a better world.\"\"\"\n",
        "  },\n",
        "  {\n",
        "    \"Person\": \"How many types of jobs AI can create\",\n",
        "    \"An artificial intelligent Expert\": \"\"\"Types of jobs AI can create:\n",
        "including AI developers, data scientists, machine learning engineers, natural language processing specialists, AI trainers, robotics engineers, AI ethics consultants, AI\n",
        "business strategists, chatbot designers, computer vision experts, AI project managers, and more, across industries like healthcare, finance, transportation, and entertainment.\"\"\"\n",
        "  }\n",
        "]\n",
        "example_prompt = PromptTemplate(input_variables=[\"Person\", \"An artificial intelligent Expert\"], template=\"Person: {Person}\\nAn artificial intelligent Expert: {An artificial intelligent Expert}\")\n",
        "\n",
        "print(example_prompt.format(**examples[0]))\n"
      ]
    },
    {
      "cell_type": "code",
      "source": [
        "prompt = FewShotPromptTemplate(\n",
        "    examples=examples,\n",
        "    example_prompt=example_prompt,\n",
        "    suffix=\"Question: {input}\",\n",
        "    input_variables=[\"input\"]\n",
        ")\n",
        "\n",
        "\n",
        "print(prompt.format(input=\"What type of problems ai can create?\"))\n",
        "llm(prompt.format(input=\"What type of problems ai can create?\"))"
      ],
      "metadata": {
        "colab": {
          "base_uri": "https://localhost:8080/",
          "height": 261
        },
        "id": "oSRcv8XNQGUW",
        "outputId": "a1bae4a4-679e-4454-acab-45729486bdb3"
      },
      "execution_count": null,
      "outputs": [
        {
          "output_type": "stream",
          "name": "stdout",
          "text": [
            "Person: What is the future of AI\n",
            "An artificial intelligent Expert: The future of AI is:\n",
            "boundless and transformative. Advancements in machine learning, natural language processing, and robotics will lead to intelligent systems\n",
            "integrated into every aspect of life, revolutionizing industries, healthcare, transportation, and daily tasks. Ethical considerations and responsible development\n",
            " will be crucial in maximizing AI's potential for a better world.\n",
            "\n",
            "Person: How many types of jobs AI can create\n",
            "An artificial intelligent Expert: Types of jobs AI can create:\n",
            "including AI developers, data scientists, machine learning engineers, natural language processing specialists, AI trainers, robotics engineers, AI ethics consultants, AI\n",
            "business strategists, chatbot designers, computer vision experts, AI project managers, and more, across industries like healthcare, finance, transportation, and entertainment.\n",
            "\n",
            "Question: What type of problems ai can create?\n"
          ]
        },
        {
          "output_type": "execute_result",
          "data": {
            "text/plain": [
              "'\\nAn artificial intelligent Expert: AI can create a variety of problems, such as unintentional bias in data sets, privacy concerns, ethical dilemmas, and algorithmic accountability. Additionally, AI can be used to automate processes and tasks, leading to job displacement and economic disruption.'"
            ],
            "application/vnd.google.colaboratory.intrinsic+json": {
              "type": "string"
            }
          },
          "metadata": {},
          "execution_count": 3
        }
      ]
    },
    {
      "cell_type": "code",
      "source": [],
      "metadata": {
        "id": "oKhWQclaQkFt"
      },
      "execution_count": null,
      "outputs": []
    }
  ]
}
